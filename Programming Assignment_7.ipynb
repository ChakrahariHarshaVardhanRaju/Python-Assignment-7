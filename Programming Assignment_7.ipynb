{
 "cells": [
  {
   "cell_type": "markdown",
   "id": "35297a20",
   "metadata": {},
   "source": [
    "## Programming Basic Assignment 7"
   ]
  },
  {
   "cell_type": "markdown",
   "id": "27349114",
   "metadata": {},
   "source": [
    "### 1. Write a Python Program to find sum of array?"
   ]
  },
  {
   "cell_type": "code",
   "execution_count": 6,
   "id": "5c4970b0",
   "metadata": {},
   "outputs": [
    {
     "name": "stdout",
     "output_type": "stream",
     "text": [
      "15\n"
     ]
    }
   ],
   "source": [
    "def sum_of_array(arr):\n",
    "    return sum(arr)\n",
    "\n",
    "arr = [1,2,3,4,5]\n",
    "print(sum_of_array(arr))"
   ]
  },
  {
   "cell_type": "markdown",
   "id": "171a980d",
   "metadata": {},
   "source": [
    "### 2. Write a Python Program to find largest element in an array?\n"
   ]
  },
  {
   "cell_type": "code",
   "execution_count": 9,
   "id": "fb0be40d",
   "metadata": {},
   "outputs": [
    {
     "name": "stdout",
     "output_type": "stream",
     "text": [
      "5\n"
     ]
    }
   ],
   "source": [
    "def largest_element(arr):\n",
    "    return max(arr)\n",
    "\n",
    "arr = [1,2,3,4,5]\n",
    "print(largest_element(arr))"
   ]
  },
  {
   "cell_type": "markdown",
   "id": "21613246",
   "metadata": {},
   "source": [
    "### 3. Write a Python Program for array rotation?"
   ]
  },
  {
   "cell_type": "code",
   "execution_count": 13,
   "id": "d5ff26ba",
   "metadata": {},
   "outputs": [
    {
     "name": "stdout",
     "output_type": "stream",
     "text": [
      "[3, 4, 5, 1, 2]\n"
     ]
    }
   ],
   "source": [
    "def array_rotation(arr, k):\n",
    "    return arr[k:] + arr[:k]\n",
    "\n",
    "arr = [1, 2, 3, 4, 5]\n",
    "k = 2\n",
    "print(array_rotation(arr, k))\n"
   ]
  },
  {
   "cell_type": "markdown",
   "id": "3e52d939",
   "metadata": {},
   "source": [
    "### 4. Write a Python Program to Split the array and add the first part to the end?"
   ]
  },
  {
   "cell_type": "code",
   "execution_count": 18,
   "id": "3c2aa8c2",
   "metadata": {},
   "outputs": [
    {
     "name": "stdout",
     "output_type": "stream",
     "text": [
      "[3, 4, 5, 1, 2]\n"
     ]
    }
   ],
   "source": [
    "def split_and_add(arr, k):\n",
    "    return arr[k:] + arr[:k]\n",
    "\n",
    "arr = [1, 2, 3, 4, 5]\n",
    "k = 2\n",
    "print(split_and_add(arr, k))"
   ]
  },
  {
   "cell_type": "markdown",
   "id": "aa375779",
   "metadata": {},
   "source": [
    "### 5. Write a Python Program to check if given array is Monotonic?"
   ]
  },
  {
   "cell_type": "code",
   "execution_count": 22,
   "id": "8a6de0aa",
   "metadata": {},
   "outputs": [
    {
     "name": "stdout",
     "output_type": "stream",
     "text": [
      "True\n",
      "False\n"
     ]
    }
   ],
   "source": [
    "def is_monotonic(arr):\n",
    "    if len(arr) <= 1:\n",
    "        return True\n",
    "    else:\n",
    "        flag = 0\n",
    "        for i in range(len(arr) - 1):\n",
    "            if arr[i] < arr[i+1]:\n",
    "                flag = 1\n",
    "                break\n",
    "            elif arr[i] > arr[i+1]:\n",
    "                flag = -1\n",
    "                break\n",
    "        if flag == 0:\n",
    "            return True\n",
    "        else:\n",
    "            for i in range(len(arr) - 1):\n",
    "                if (arr[i] < arr[i+1] and flag == -1) or (arr[i] > arr[i+1] and flag == 1):\n",
    "                    return False\n",
    "            return True\n",
    "\n",
    "arr = [1, 2, 2, 4, 5]\n",
    "print(is_monotonic(arr))\n",
    "\n",
    "arr = [1, 3, 2, 4, 5]\n",
    "print(is_monotonic(arr))\n"
   ]
  },
  {
   "cell_type": "code",
   "execution_count": null,
   "id": "2bf64ffc",
   "metadata": {},
   "outputs": [],
   "source": []
  }
 ],
 "metadata": {
  "kernelspec": {
   "display_name": "Python 3 (ipykernel)",
   "language": "python",
   "name": "python3"
  },
  "language_info": {
   "codemirror_mode": {
    "name": "ipython",
    "version": 3
   },
   "file_extension": ".py",
   "mimetype": "text/x-python",
   "name": "python",
   "nbconvert_exporter": "python",
   "pygments_lexer": "ipython3",
   "version": "3.9.13"
  }
 },
 "nbformat": 4,
 "nbformat_minor": 5
}
